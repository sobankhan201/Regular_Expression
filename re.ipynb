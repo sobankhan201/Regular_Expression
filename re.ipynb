{
 "cells": [
  {
   "cell_type": "markdown",
   "id": "fb4b7469",
   "metadata": {},
   "source": [
    "Beginner (Basic Matching & Searching) "
   ]
  },
  {
   "cell_type": "code",
   "execution_count": 1,
   "id": "03c1db6e",
   "metadata": {},
   "outputs": [
    {
     "name": "stdout",
     "output_type": "stream",
     "text": [
      "Found!\n"
     ]
    }
   ],
   "source": [
    "import re\n",
    "\n",
    "text = \"I am learning Python programming.\"\n",
    "match = re.search(r\"\\bPython\\b\", text)\n",
    "\n",
    "if match:\n",
    "    print(\"Found!\")"
   ]
  },
  {
   "cell_type": "code",
   "execution_count": 2,
   "id": "b564c5bd",
   "metadata": {},
   "outputs": [
    {
     "name": "stdout",
     "output_type": "stream",
     "text": [
      "Only letters\n"
     ]
    }
   ],
   "source": [
    "text = \"HelloWorld\"\n",
    "if text.isalpha():\n",
    "    print(\"Only letters\")\n",
    "else:\n",
    "    print(\"Contains other characters\")\n"
   ]
  },
  {
   "cell_type": "code",
   "execution_count": 3,
   "id": "606d50aa",
   "metadata": {},
   "outputs": [
    {
     "name": "stdout",
     "output_type": "stream",
     "text": [
      "Only digits\n"
     ]
    }
   ],
   "source": [
    "text = \"123456\"\n",
    "if text.isdigit():\n",
    "    print(\"Only digits\")\n",
    "else:\n",
    "    print(\"Contains non-digits\")\n"
   ]
  },
  {
   "cell_type": "code",
   "execution_count": 4,
   "id": "3ee155ed",
   "metadata": {},
   "outputs": [
    {
     "name": "stdout",
     "output_type": "stream",
     "text": [
      "['7', '7', '7', '7', '7', '7', '7', '7']\n",
      "8\n"
     ]
    }
   ],
   "source": [
    "text = \"My phone number is 727-177-7777\"\n",
    "sevens = re.findall(\"7\", text)\n",
    "\n",
    "print(sevens)          # ['7', '7', '7', '7', '7', '7']\n",
    "print(len(sevens))     # 6 (total occurrences)"
   ]
  },
  {
   "cell_type": "code",
   "execution_count": 5,
   "id": "8d1a5643",
   "metadata": {},
   "outputs": [
    {
     "name": "stdout",
     "output_type": "stream",
     "text": [
      "['e', 'l', 'l', 'o', 'o', 'r', 'l', 'd']\n"
     ]
    }
   ],
   "source": [
    "text = \"Hello World\"\n",
    "lowercase = re.findall(r\"[a-z]\", text)\n",
    "\n",
    "print(lowercase)   # ['e', 'l', 'l', 'o', 'o', 'r', 'l', 'd']\n"
   ]
  },
  {
   "cell_type": "code",
   "execution_count": 6,
   "id": "4a12c8d3",
   "metadata": {},
   "outputs": [
    {
     "name": "stdout",
     "output_type": "stream",
     "text": [
      "['H', 'W']\n"
     ]
    }
   ],
   "source": [
    "text = \"Hello World\"\n",
    "uppercase = re.findall(r\"[A-Z]\", text)\n",
    "\n",
    "print(uppercase)   # ['H', 'W']"
   ]
  },
  {
   "cell_type": "code",
   "execution_count": 7,
   "id": "9ec6996a",
   "metadata": {},
   "outputs": [
    {
     "name": "stdout",
     "output_type": "stream",
     "text": [
      "['03001234567']\n"
     ]
    }
   ],
   "source": [
    "text = \"My phone number is 03001234567\"\n",
    "numbers = re.findall(r\"\\d+\", text)\n",
    "\n",
    "print(numbers)   # ['03001234567']\n"
   ]
  },
  {
   "cell_type": "code",
   "execution_count": 8,
   "id": "2b1838f6",
   "metadata": {},
   "outputs": [
    {
     "name": "stdout",
     "output_type": "stream",
     "text": [
      "Yes, starts with Hello\n"
     ]
    }
   ],
   "source": [
    "text = \"Hello World\"\n",
    "if text.startswith(\"Hello\"):\n",
    "    print(\"Yes, starts with Hello\")\n",
    "else:\n",
    "    print(\"No\")\n"
   ]
  },
  {
   "cell_type": "code",
   "execution_count": 9,
   "id": "f3551e31",
   "metadata": {},
   "outputs": [
    {
     "name": "stdout",
     "output_type": "stream",
     "text": [
      "Yes, ends with World\n"
     ]
    }
   ],
   "source": [
    "text = \"Hello World\"\n",
    "if text.endswith(\"World\"):\n",
    "    print(\"Yes, ends with World\")\n",
    "else:\n",
    "    print(\"No\")"
   ]
  },
  {
   "cell_type": "code",
   "execution_count": 10,
   "id": "b211dda3",
   "metadata": {},
   "outputs": [
    {
     "name": "stdout",
     "output_type": "stream",
     "text": [
      "['e', 'u', 'a', 'E', 'e', 'i', 'o', 'a', 'e', 'u']\n"
     ]
    }
   ],
   "source": [
    "text = \"Regular Expressions are fun!\"\n",
    "vowels = re.findall(r\"[aeiouAEIOU]\", text)\n",
    "\n",
    "print(vowels)   # ['e', 'u', 'a', 'E', 'e', 'i', 'o', 'a', 'e', 'u']\n"
   ]
  },
  {
   "cell_type": "code",
   "execution_count": 11,
   "id": "92b7d06b",
   "metadata": {},
   "outputs": [
    {
     "name": "stdout",
     "output_type": "stream",
     "text": [
      "['R', 'g', 'l', 'r', 'x', 'p', 'r', 's', 's', 'n', 's', 'r', 'f', 'n']\n"
     ]
    }
   ],
   "source": [
    "text = \"Regular Expressions are fun!\"\n",
    "consonants = re.findall(r\"[bcdfghjklmnpqrstvwxyz]\", text, re.IGNORECASE)\n",
    "\n",
    "print(consonants)  \n",
    "# ['R', 'g', 'l', 'r', 'x', 'p', 'r', 's', 's', 'n', 's', 'r', 'f', 'n']\n"
   ]
  },
  {
   "cell_type": "code",
   "execution_count": 12,
   "id": "ba73fe0e",
   "metadata": {},
   "outputs": [
    {
     "name": "stdout",
     "output_type": "stream",
     "text": [
      "['These', 'words', 'apple', 'mango']\n"
     ]
    }
   ],
   "source": [
    "text = \"These words have apple, mango, and grapes.\"\n",
    "words = re.findall(r\"\\b[a-zA-Z]{5}\\b\", text)\n",
    "\n",
    "print(words)   # ['These', 'apple', 'mango']\n"
   ]
  },
  {
   "cell_type": "code",
   "execution_count": 13,
   "id": "7295815b",
   "metadata": {},
   "outputs": [
    {
     "name": "stdout",
     "output_type": "stream",
     "text": [
      "String contains at least one space\n"
     ]
    }
   ],
   "source": [
    "text = \"Hello World\"\n",
    "if re.search(r\"\\s\", text):\n",
    "    print(\"String contains at least one space\")\n",
    "else:\n",
    "    print(\"No spaces found\")\n"
   ]
  },
  {
   "cell_type": "code",
   "execution_count": 14,
   "id": "9e89aa80",
   "metadata": {},
   "outputs": [
    {
     "name": "stdout",
     "output_type": "stream",
     "text": [
      "['Python', 'Powerful', 'Practical', 'Popular']\n"
     ]
    }
   ],
   "source": [
    "text = \"Python is Powerful, Practical and Popular.\"\n",
    "words = re.findall(r\"\\bP\\w*\", text)\n",
    "\n",
    "print(words)   # ['Python', 'Powerful', 'Practical', 'Popular']\n"
   ]
  },
  {
   "cell_type": "code",
   "execution_count": 15,
   "id": "9c1df6b9",
   "metadata": {},
   "outputs": [
    {
     "name": "stdout",
     "output_type": "stream",
     "text": [
      "String contains cat or dog\n"
     ]
    }
   ],
   "source": [
    "text = \"I have a cat and a dog.\"\n",
    "if \"cat\" in text or \"dog\" in text:\n",
    "    print(\"String contains cat or dog\")\n",
    "else:\n",
    "    print(\"No cat or dog found\")\n"
   ]
  },
  {
   "cell_type": "code",
   "execution_count": 16,
   "id": "4ae813f2",
   "metadata": {},
   "outputs": [
    {
     "name": "stdout",
     "output_type": "stream",
     "text": [
      "['Python3', 'is', 'fun']\n"
     ]
    }
   ],
   "source": [
    "text = \"Python3 is fun\"\n",
    "words = re.findall(r\"\\w+\", text)\n",
    "\n",
    "print(words)   # ['Python3', 'is', 'fun']\n"
   ]
  },
  {
   "cell_type": "code",
   "execution_count": 17,
   "id": "826e993c",
   "metadata": {},
   "outputs": [
    {
     "name": "stdout",
     "output_type": "stream",
     "text": [
      "['21', '15']\n"
     ]
    }
   ],
   "source": [
    "text = \"I am 21 years old and my brother is 15\"\n",
    "numbers = re.findall(r\"\\b\\d{2}\\b\", text)\n",
    "\n",
    "print(numbers)   # ['21', '15']\n"
   ]
  },
  {
   "cell_type": "code",
   "execution_count": 18,
   "id": "fcab7cf3",
   "metadata": {},
   "outputs": [
    {
     "name": "stdout",
     "output_type": "stream",
     "text": [
      "['R', 'g', 'l', 'r', ' ', 'x', 'p', 'r', 's', 's', 'n', 's', ' ', 'r', ' ', 'f', 'n', '!']\n"
     ]
    }
   ],
   "source": [
    "text = \"Regular Expressions are fun!\"\n",
    "matches = re.findall(r\"[^aeiouAEIOU]\", text)\n",
    "\n",
    "print(matches)\n",
    "# ['R', 'g', 'l', 'r', ' ', 'x', 'p', 'r', 's', 's', 'n', 's', ' ', 'r', ' ', 'f', 'n', '!']"
   ]
  },
  {
   "cell_type": "code",
   "execution_count": 19,
   "id": "64db9704",
   "metadata": {},
   "outputs": [
    {
     "name": "stdout",
     "output_type": "stream",
     "text": [
      "['!', '?']\n"
     ]
    }
   ],
   "source": [
    "text = \"Hello! How are you?\"\n",
    "punctuations = re.findall(r\"[^\\w\\s]\", text)\n",
    "\n",
    "print(punctuations)   # ['!', '?']\n"
   ]
  },
  {
   "cell_type": "code",
   "execution_count": 20,
   "id": "1d16c091",
   "metadata": {},
   "outputs": [
    {
     "name": "stdout",
     "output_type": "stream",
     "text": [
      "['Python is fun', 'Yes it is!']\n"
     ]
    }
   ],
   "source": [
    "text = 'She said, \"Python is fun\" and he replied, \"Yes it is!\"'\n",
    "quotes = re.findall(r'\"(.*?)\"', text)\n",
    "\n",
    "print(quotes)   # ['Python is fun', 'Yes it is!']\n"
   ]
  },
  {
   "cell_type": "code",
   "execution_count": 21,
   "id": "38553067",
   "metadata": {},
   "outputs": [
    {
     "name": "stdout",
     "output_type": "stream",
     "text": [
      "['Yes', 'NO', 'yes']\n"
     ]
    }
   ],
   "source": [
    "text = \"Yes, I said NO but maybe yes.\"\n",
    "matches = re.findall(r\"\\b(?:yes|no)\\b\", text, re.IGNORECASE)\n",
    "\n",
    "print(matches)   # ['Yes', 'NO', 'yes']\n"
   ]
  },
  {
   "cell_type": "code",
   "execution_count": 22,
   "id": "3fb28172",
   "metadata": {},
   "outputs": [
    {
     "name": "stdout",
     "output_type": "stream",
     "text": [
      "Only whitespace\n"
     ]
    }
   ],
   "source": [
    "text = \"   \\t\\n  \"\n",
    "if text.isspace():\n",
    "    print(\"Only whitespace\")\n",
    "else:\n",
    "    print(\"Not only whitespace\")\n"
   ]
  },
  {
   "cell_type": "code",
   "execution_count": 23,
   "id": "f5d930ac",
   "metadata": {},
   "outputs": [
    {
     "name": "stdout",
     "output_type": "stream",
     "text": [
      "['A', 'l', 'n', 'B']\n"
     ]
    }
   ],
   "source": [
    "text = \"Anna went to level up at noon with Bob\"\n",
    "words = re.findall(r\"\\b([A-Za-z])\\w*\\1\\b\", text, re.IGNORECASE)\n",
    "\n",
    "print(words)   # ['A', 'l', 'n', 'B']\n"
   ]
  },
  {
   "cell_type": "code",
   "execution_count": 24,
   "id": "5badd01b",
   "metadata": {},
   "outputs": [
    {
     "name": "stdout",
     "output_type": "stream",
     "text": [
      "['#Python', '#Coding']\n"
     ]
    }
   ],
   "source": [
    "text = \"Loving #Python #Coding\"\n",
    "hashtags = re.findall(r\"#\\w+\", text)\n",
    "\n",
    "print(hashtags)   # ['#Python', '#Coding']\n"
   ]
  },
  {
   "cell_type": "code",
   "execution_count": 25,
   "id": "a8783c2b",
   "metadata": {},
   "outputs": [
    {
     "name": "stdout",
     "output_type": "stream",
     "text": [
      "Valid hexadecimal string\n"
     ]
    }
   ],
   "source": [
    "text = \"1A3f9B\"\n",
    "\n",
    "if re.fullmatch(r\"[0-9A-Fa-f]+\", text):\n",
    "    print(\"Valid hexadecimal string\")\n",
    "else:\n",
    "    print(\"Not a valid hexadecimal string\")\n"
   ]
  },
  {
   "cell_type": "code",
   "execution_count": 26,
   "id": "ac7f8e73",
   "metadata": {},
   "outputs": [
    {
     "name": "stdout",
     "output_type": "stream",
     "text": [
      "['.txt', '.pdf', '.jpeg']\n"
     ]
    }
   ],
   "source": [
    "text = \"file.txt file2.pdf image.jpeg\"\n",
    "extensions = re.findall(r\"\\.\\w+\", text)\n",
    "\n",
    "print(extensions)   # ['.txt', '.pdf', '.jpeg']\n"
   ]
  },
  {
   "cell_type": "code",
   "execution_count": 27,
   "id": "7c5d96c8",
   "metadata": {},
   "outputs": [
    {
     "name": "stdout",
     "output_type": "stream",
     "text": [
      "['\\n', '\\n']\n",
      "2\n"
     ]
    }
   ],
   "source": [
    "text = \"Hello\\nWorld\\nPython\"\n",
    "newlines = re.findall(r\"\\n\", text)\n",
    "\n",
    "print(newlines)       # ['\\n', '\\n']\n",
    "print(len(newlines))  # 2 (total occurrences)\n"
   ]
  },
  {
   "cell_type": "code",
   "execution_count": 28,
   "id": "83d1d8d0",
   "metadata": {},
   "outputs": [
    {
     "name": "stdout",
     "output_type": "stream",
     "text": [
      "['3a', '7B', '2c', '9x']\n"
     ]
    }
   ],
   "source": [
    "text = \"My codes are 3a, 7B, 42c, and 9x.\"\n",
    "matches = re.findall(r\"\\d[A-Za-z]\", text)\n",
    "\n",
    "print(matches)   # ['3a', '7B', '9x']"
   ]
  },
  {
   "cell_type": "code",
   "execution_count": 29,
   "id": "afac6385",
   "metadata": {},
   "outputs": [
    {
     "name": "stdout",
     "output_type": "stream",
     "text": [
      "['https://www.python.org', 'http://example.com', 'ftp://fileserver.com']\n"
     ]
    }
   ],
   "source": [
    "text = \"Visit https://www.python.org and http://example.com or check ftp://fileserver.com\"\n",
    "\n",
    "urls = re.findall(r\"(https?://\\S+|ftp://\\S+)\", text)\n",
    "print(urls)\n"
   ]
  },
  {
   "cell_type": "code",
   "execution_count": 30,
   "id": "f1393182",
   "metadata": {},
   "outputs": [
    {
     "name": "stdout",
     "output_type": "stream",
     "text": [
      "abcabcabc → Match\n",
      "xxabcxxabcxxabcxx → Match\n",
      "abcabc → No Match\n",
      "abcabcabcabc → Match\n"
     ]
    }
   ],
   "source": [
    "pattern = r'^(?:.*abc){3}.*$'\n",
    "\n",
    "tests = [\n",
    "    \"abcabcabc\",          # ✅ 3 times\n",
    "    \"xxabcxxabcxxabcxx\",  # ✅ 3 times\n",
    "    \"abcabc\",             # ❌ only 2 times\n",
    "    \"abcabcabcabc\"        # ❌ 4 times\n",
    "]\n",
    "\n",
    "for t in tests:\n",
    "    if re.fullmatch(pattern, t):\n",
    "        print(t, \"→ Match\")\n",
    "    else:\n",
    "        print(t, \"→ No Match\")\n"
   ]
  },
  {
   "cell_type": "code",
   "execution_count": null,
   "id": "19a13538",
   "metadata": {},
   "outputs": [],
   "source": []
  }
 ],
 "metadata": {
  "kernelspec": {
   "display_name": "Python 3",
   "language": "python",
   "name": "python3"
  },
  "language_info": {
   "codemirror_mode": {
    "name": "ipython",
    "version": 3
   },
   "file_extension": ".py",
   "mimetype": "text/x-python",
   "name": "python",
   "nbconvert_exporter": "python",
   "pygments_lexer": "ipython3",
   "version": "3.13.5"
  }
 },
 "nbformat": 4,
 "nbformat_minor": 5
}
